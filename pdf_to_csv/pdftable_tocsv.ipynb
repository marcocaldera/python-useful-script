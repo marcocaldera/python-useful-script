{
 "cells": [
  {
   "cell_type": "code",
   "execution_count": 3,
   "metadata": {},
   "outputs": [
    {
     "data": {
      "text/plain": [
       "'3.6.9'"
      ]
     },
     "execution_count": 3,
     "metadata": {},
     "output_type": "execute_result"
    }
   ],
   "source": [
    "from platform import python_version\n",
    "python_version()"
   ]
  },
  {
   "cell_type": "code",
   "execution_count": 2,
   "metadata": {},
   "outputs": [
    {
     "name": "stdout",
     "output_type": "stream",
     "text": [
      "/Users/marcocaldera/anaconda3/bin/python\n",
      "Collecting tabula-py\n",
      "\u001b[?25l  Downloading https://files.pythonhosted.org/packages/44/9f/386fdfe550a82b43656689413ace844f1d2103fc44af6771490c5d2c8c4f/tabula_py-2.0.2-py3-none-any.whl (10.4MB)\n",
      "\u001b[K     |████████████████████████████████| 10.4MB 5.1MB/s eta 0:00:01\n",
      "\u001b[?25hRequirement already satisfied: numpy in ./anaconda3/lib/python3.6/site-packages (from tabula-py) (1.14.2)\n",
      "Collecting pandas\n",
      "  Using cached https://files.pythonhosted.org/packages/32/37/b0abb12e1e387ec63adfb5c7bb7bcbc05a7e1ae22a3604b03843d7b04e0b/pandas-0.25.3-cp36-cp36m-macosx_10_9_x86_64.whl\n",
      "Collecting distro\n",
      "  Downloading https://files.pythonhosted.org/packages/ea/35/82f79b92fa4d937146c660a6482cee4f3dfa1f97ff3d2a6f3ecba33e712e/distro-1.4.0-py2.py3-none-any.whl\n",
      "Requirement already satisfied: python-dateutil>=2.6.1 in ./anaconda3/lib/python3.6/site-packages (from pandas->tabula-py) (2.8.1)\n",
      "Requirement already satisfied: pytz>=2017.2 in ./anaconda3/lib/python3.6/site-packages (from pandas->tabula-py) (2019.3)\n",
      "Requirement already satisfied: six>=1.5 in ./anaconda3/lib/python3.6/site-packages (from python-dateutil>=2.6.1->pandas->tabula-py) (1.13.0)\n",
      "Installing collected packages: pandas, distro, tabula-py\n",
      "Successfully installed distro-1.4.0 pandas-0.25.3 tabula-py-2.0.2\n"
     ]
    }
   ],
   "source": [
    "import sys\n",
    "print(sys.executable)\n",
    "!{sys.executable} -m pip install tabula-py"
   ]
  },
  {
   "cell_type": "code",
   "execution_count": 44,
   "metadata": {},
   "outputs": [
    {
     "name": "stderr",
     "output_type": "stream",
     "text": [
      "Got stderr: Jan 17, 2020 6:47:23 PM org.apache.pdfbox.pdmodel.font.PDCIDFontType2 <init>\n",
      "INFO: OpenType Layout tables used in font CIDFont+F1 are not implemented in PDFBox and will be ignored\n",
      "Jan 17, 2020 6:47:23 PM org.apache.pdfbox.pdmodel.font.PDCIDFontType2 <init>\n",
      "INFO: OpenType Layout tables used in font CIDFont+F2 are not implemented in PDFBox and will be ignored\n",
      "\n"
     ]
    }
   ],
   "source": [
    "import tabula\n",
    "import pandas as pd\n",
    "#df_list = tabula.read_pdf(\"CCC19.pdf\", pages='all')\n",
    "tabula.convert_into(\"CCC19.pdf\", \"output.csv\", output_format=\"csv\", pages='all')"
   ]
  },
  {
   "cell_type": "code",
   "execution_count": null,
   "metadata": {},
   "outputs": [],
   "source": []
  },
  {
   "cell_type": "code",
   "execution_count": null,
   "metadata": {},
   "outputs": [],
   "source": []
  }
 ],
 "metadata": {
  "kernelspec": {
   "display_name": "Python 3",
   "language": "python",
   "name": "python3"
  },
  "language_info": {
   "codemirror_mode": {
    "name": "ipython",
    "version": 3
   },
   "file_extension": ".py",
   "mimetype": "text/x-python",
   "name": "python",
   "nbconvert_exporter": "python",
   "pygments_lexer": "ipython3",
   "version": "3.6.9"
  }
 },
 "nbformat": 4,
 "nbformat_minor": 4
}
